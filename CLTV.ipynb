{
  "nbformat": 4,
  "nbformat_minor": 0,
  "metadata": {
    "colab": {
      "provenance": []
    },
    "kernelspec": {
      "name": "python3",
      "display_name": "Python 3"
    },
    "language_info": {
      "name": "python"
    }
  },
  "cells": [
    {
      "cell_type": "code",
      "source": [
        "import pandas as pd\n",
        "import sqlite3\n",
        "from sklearn.model_selection import train_test_split\n",
        "from sklearn.ensemble import GradientBoostingRegressor\n",
        "from sklearn.metrics import mean_absolute_error, mean_squared_error\n",
        "import numpy as np"
      ],
      "metadata": {
        "id": "HX90WmOcoapS"
      },
      "execution_count": 1,
      "outputs": []
    },
    {
      "cell_type": "code",
      "source": [
        "df = pd.read_csv(\"data.csv\", encoding='ISO-8859-1')\n",
        "df = df[df['CustomerID'].notna()]\n",
        "df = df[df['Quantity'] > 0]\n",
        "df = df[~df['InvoiceNo'].astype(str).str.startswith('C')]\n",
        "df['InvoiceDate'] = pd.to_datetime(df['InvoiceDate'], format='mixed', dayfirst=True, errors='coerce')\n",
        "df = df.dropna(subset=['InvoiceDate'])\n",
        "df['CustomerID'] = df['CustomerID'].astype(int)"
      ],
      "metadata": {
        "id": "kZZW5CY08c3x"
      },
      "execution_count": 2,
      "outputs": []
    },
    {
      "cell_type": "code",
      "source": [
        "conn = sqlite3.connect(\"cltv_project.db\")\n",
        "df.to_sql(\"transactions\", conn, if_exists=\"replace\", index=False)"
      ],
      "metadata": {
        "colab": {
          "base_uri": "https://localhost:8080/"
        },
        "id": "i5qnb6M-8kk_",
        "outputId": "1e8128f3-c957-4e62-f6a8-20910ea30173"
      },
      "execution_count": 3,
      "outputs": [
        {
          "output_type": "execute_result",
          "data": {
            "text/plain": [
              "397924"
            ]
          },
          "metadata": {},
          "execution_count": 3
        }
      ]
    },
    {
      "cell_type": "code",
      "source": [
        "query = '''\n",
        "SELECT\n",
        "    CustomerID,\n",
        "    MAX(InvoiceDate) AS LastPurchaseDate,\n",
        "    MIN(InvoiceDate) AS FirstPurchaseDate,\n",
        "    COUNT(DISTINCT InvoiceNo) AS Frequency,\n",
        "    SUM(Quantity * UnitPrice) AS Monetary\n",
        "FROM transactions\n",
        "GROUP BY CustomerID\n",
        "'''\n",
        "\n",
        "rfm = pd.read_sql(query, conn)\n",
        "rfm['LastPurchaseDate'] = pd.to_datetime(rfm['LastPurchaseDate'])\n",
        "rfm['FirstPurchaseDate'] = pd.to_datetime(rfm['FirstPurchaseDate'])\n",
        "latest_date = df['InvoiceDate'].max()\n",
        "rfm['Recency'] = (latest_date - rfm['LastPurchaseDate']).dt.days\n",
        "rfm['T'] = (latest_date - rfm['FirstPurchaseDate']).dt.days\n",
        "rfm = rfm[(rfm['Monetary'] > 0) & (rfm['Frequency'] > 0)]\n",
        "rfm['AOV'] = rfm['Monetary'] / rfm['Frequency']"
      ],
      "metadata": {
        "id": "KF_lZSBR8pXE"
      },
      "execution_count": 4,
      "outputs": []
    },
    {
      "cell_type": "code",
      "source": [
        "X = rfm[['Recency', 'Frequency', 'AOV']]\n",
        "y = rfm['Monetary']\n",
        "\n",
        "X_train, X_test, y_train, y_test = train_test_split(X, y, test_size=0.2, random_state=42)\n",
        "\n",
        "model = GradientBoostingRegressor()\n",
        "model.fit(X_train, y_train)\n",
        "y_pred = model.predict(X_test)"
      ],
      "metadata": {
        "id": "GsHUvimM87BQ"
      },
      "execution_count": 5,
      "outputs": []
    },
    {
      "cell_type": "code",
      "source": [
        "mae = mean_absolute_error(y_test, y_pred)\n",
        "rmse = np.sqrt(mean_squared_error(y_test, y_pred))\n",
        "print(f\"MAE: {mae}, RMSE: {rmse}\")"
      ],
      "metadata": {
        "colab": {
          "base_uri": "https://localhost:8080/"
        },
        "id": "SRAeTBIM9Qoy",
        "outputId": "7d6abee9-2d2a-4367-c4f9-cf77ff0be002"
      },
      "execution_count": 6,
      "outputs": [
        {
          "output_type": "stream",
          "name": "stdout",
          "text": [
            "MAE: 361.69646858440353, RMSE: 2981.8357886171148\n"
          ]
        }
      ]
    },
    {
      "cell_type": "code",
      "source": [
        "rfm['Predicted_CLTV'] = model.predict(rfm[['Recency', 'Frequency', 'AOV']])"
      ],
      "metadata": {
        "id": "Rw_1TaRU9UPO"
      },
      "execution_count": 7,
      "outputs": []
    },
    {
      "cell_type": "code",
      "source": [
        "rfm['CLTV_Segment'] = pd.qcut(rfm['Predicted_CLTV'], q=3, labels=['Low', 'Medium', 'High'])"
      ],
      "metadata": {
        "id": "IwdPYrmr9dJk"
      },
      "execution_count": 8,
      "outputs": []
    },
    {
      "cell_type": "code",
      "source": [
        "rfm.to_csv(\"cltv_output.csv\", index=False)"
      ],
      "metadata": {
        "id": "OK35niy59flK"
      },
      "execution_count": 9,
      "outputs": []
    },
    {
      "cell_type": "code",
      "source": [
        "df['TotalPrice'] = df['Quantity'] * df['UnitPrice']\n",
        "rfm = df.groupby('CustomerID').agg({\n",
        "    'InvoiceDate': [lambda x: (df['InvoiceDate'].max() - x.max()).days,\n",
        "                    lambda x: x.nunique()],\n",
        "    'TotalPrice': 'sum'\n",
        "}).reset_index()\n",
        "\n",
        "rfm.columns = ['CustomerID', 'Recency', 'Frequency', 'Monetary']\n",
        "summary = rfm.copy()"
      ],
      "metadata": {
        "id": "4RDMHkiG9kIo"
      },
      "execution_count": 12,
      "outputs": []
    },
    {
      "cell_type": "code",
      "source": [
        "# Create AOV (Average Order Value) first\n",
        "df['TotalPrice'] = df['Quantity'] * df['UnitPrice']\n",
        "\n",
        "summary = df.groupby('CustomerID').agg({\n",
        "    'InvoiceDate': [lambda x: (df['InvoiceDate'].max() - x.max()).days,\n",
        "                    lambda x: x.nunique()],\n",
        "    'TotalPrice': 'sum'\n",
        "}).reset_index()\n",
        "\n",
        "summary.columns = ['CustomerID', 'Recency', 'Frequency', 'Monetary']\n",
        "summary['AOV'] = summary['Monetary'] / summary['Frequency']\n",
        "X = summary[['Recency', 'Frequency', 'AOV']]\n",
        "summary['predicted_CLTV'] = model.predict(X)\n",
        "summary['CLTV_Segment'] = pd.qcut(summary['predicted_CLTV'], 3, labels=[\"Low\", \"Medium\", \"High\"])\n",
        "output = summary[['CustomerID', 'predicted_CLTV', 'CLTV_Segment']]\n",
        "output.to_csv(\"cltv_predictions.csv\", index=False)\n"
      ],
      "metadata": {
        "id": "MQyCvXE0oLlP"
      },
      "execution_count": 18,
      "outputs": []
    },
    {
      "cell_type": "code",
      "source": [
        "import joblib\n",
        "joblib.dump(model, \"cltv_model.pkl\")\n"
      ],
      "metadata": {
        "colab": {
          "base_uri": "https://localhost:8080/"
        },
        "id": "63hhaklwoeK3",
        "outputId": "436a2d87-5c93-4f0a-9449-782454c5169b"
      },
      "execution_count": 19,
      "outputs": [
        {
          "output_type": "execute_result",
          "data": {
            "text/plain": [
              "['cltv_model.pkl']"
            ]
          },
          "metadata": {},
          "execution_count": 19
        }
      ]
    },
    {
      "cell_type": "code",
      "source": [],
      "metadata": {
        "id": "2o_l8OcVrK_C"
      },
      "execution_count": null,
      "outputs": []
    }
  ]
}